{
 "cells": [
  {
   "cell_type": "code",
   "execution_count": 2,
   "metadata": {
    "colab": {
     "base_uri": "https://localhost:8080/",
     "height": 224
    },
    "colab_type": "code",
    "id": "NyylH0dZG0qi",
    "outputId": "91afa16f-a9fc-4bce-913e-b243bcf25c62"
   },
   "outputs": [
    {
     "name": "stdout",
     "output_type": "stream",
     "text": [
      "Collecting langid\n",
      "\u001b[?25l  Downloading https://files.pythonhosted.org/packages/ea/4c/0fb7d900d3b0b9c8703be316fbddffecdab23c64e1b46c7a83561d78bd43/langid-1.1.6.tar.gz (1.9MB)\n",
      "\u001b[K     |████████████████████████████████| 1.9MB 2.7MB/s \n",
      "\u001b[?25hRequirement already satisfied: numpy in /usr/local/lib/python3.6/dist-packages (from langid) (1.18.5)\n",
      "Building wheels for collected packages: langid\n",
      "  Building wheel for langid (setup.py) ... \u001b[?25l\u001b[?25hdone\n",
      "  Created wheel for langid: filename=langid-1.1.6-cp36-none-any.whl size=1941192 sha256=a547fde03c0a4b6580dad98a155e45217a727a3d81078b5b776098b6a7c7c2d4\n",
      "  Stored in directory: /root/.cache/pip/wheels/29/bc/61/50a93be85d1afe9436c3dc61f38da8ad7b637a38af4824e86e\n",
      "Successfully built langid\n",
      "Installing collected packages: langid\n",
      "Successfully installed langid-1.1.6\n"
     ]
    }
   ],
   "source": [
    "!pip install langid"
   ]
  },
  {
   "cell_type": "code",
   "execution_count": 3,
   "metadata": {
    "colab": {
     "base_uri": "https://localhost:8080/",
     "height": 85
    },
    "colab_type": "code",
    "id": "ukSWDX1zH1gF",
    "outputId": "58245b44-4fa4-4b95-f18b-5941bd7de866"
   },
   "outputs": [
    {
     "name": "stdout",
     "output_type": "stream",
     "text": [
      "[nltk_data] Downloading package stopwords to /root/nltk_data...\n",
      "[nltk_data]   Unzipping corpora/stopwords.zip.\n",
      "[nltk_data] Downloading package punkt to /root/nltk_data...\n",
      "[nltk_data]   Unzipping tokenizers/punkt.zip.\n"
     ]
    }
   ],
   "source": [
    "import string\n",
    "import re\n",
    "import os\n",
    "import sys\n",
    "import pathlib\n",
    "from pathlib import Path\n",
    "import pandas as pd\n",
    "import xlrd\n",
    "import nltk\n",
    "import langid\n",
    "import nltk, re, string, collections\n",
    "from nltk.util import ngrams\n",
    "from nltk.corpus import stopwords\n",
    "nltk.download('stopwords')\n",
    "nltk.download('punkt')\n",
    "from nltk.tokenize import word_tokenize\n",
    "from sklearn.feature_extraction.text import CountVectorizer\n",
    "vectorizer = CountVectorizer()\n",
    "puncs = string.punctuation\n",
    "rem = stopwords.words() + list(puncs)"
   ]
  },
  {
   "cell_type": "code",
   "execution_count": 7,
   "metadata": {
    "colab": {},
    "colab_type": "code",
    "id": "NBQDCsPSfQo8"
   },
   "outputs": [],
   "source": [
    "def create_files(df,sheet_name):\n",
    "    data = df\n",
    "    data.dropna(axis=1,how='all',inplace=True)\n",
    "    data.dropna(axis=0,how='all',inplace=True)\n",
    "    if list(data.columns) != ['text', 'id', 'created_at']:\n",
    "        new_header = data.iloc[0]\n",
    "        data = data[1:]\n",
    "        data.columns = new_header\n",
    "    data.drop_duplicates(subset='id',keep='first',inplace=True)\n",
    "    total_text = list(data['text'])\n",
    "    #eng_text = list(filter(lambda x : langid.classify(x)[0] == 'en' and , total_text))\n",
    "    eng_text = list(filter(lambda v : langid.classify(v)[0] == 'en', list(filter(lambda u : type(u) not in [int,float], total_text))))\n",
    "    tokens_without_sw = [(\" \").join([word for word in word_tokenize(wrds) if not word in rem]) for wrds in eng_text]\n",
    "    text_as_string = (\" \").join(tokens_without_sw)\n",
    "    tokenized = text_as_string.split()\n",
    "    esunigrams = ngrams(tokenized, 1)\n",
    "    esunigramFreq = collections.Counter(esunigrams)\n",
    "    uni = esunigramFreq.most_common(100)\n",
    "    esbigrams = ngrams(tokenized, 2)\n",
    "    esbigramFreq = collections.Counter(esbigrams)\n",
    "    bi = esbigramFreq.most_common(100)\n",
    "    list_of_text = [text_as_string]\n",
    "    v = vectorizer.fit(list_of_text)\n",
    "    vocab = v.vocabulary_\n",
    "    temp = {'uni':str(uni),'bi':str(bi),'vocab':str(vocab)}\n",
    "    #temp = {'uni.txt':str(uni),'bi.txt':str(bi),'vocab.txt':str(vocab)}\n",
    "    for k,v in temp.items():\n",
    "        create_text_file(k,v)"
   ]
  },
  {
   "cell_type": "code",
   "execution_count": 8,
   "metadata": {
    "colab": {},
    "colab_type": "code",
    "id": "urQcYe90rVIS"
   },
   "outputs": [],
   "source": [
    "def create_text_file(file_name,text):\n",
    "    root_path = '/content/All_text_files_new'\n",
    "    #root_path = '/content/All_text_files'+'file_name'+'.txt'\n",
    "\n",
    "    #save_path = os.path.join(root_path, file_name)#sheet name\n",
    "\n",
    "    #completeName = os.path.join(root_path, file_name )\n",
    "\n",
    "    completeName = os.path.join(root_path, file_name + \".txt\")\n",
    "\n",
    "    if not os.path.exists(root_path):\n",
    "        os.makedirs(root_path)\n",
    "\n",
    "    file_ = open(completeName, \"a+\")#+a\n",
    "\n",
    "    file_.write(text)\n",
    "\n",
    "    file_.close()\n"
   ]
  },
  {
   "cell_type": "code",
   "execution_count": 10,
   "metadata": {
    "colab": {
     "base_uri": "https://localhost:8080/",
     "height": 1000
    },
    "colab_type": "code",
    "id": "ERaAk6V_s1fR",
    "outputId": "12f8552d-1271-407f-bd28-40a3ef874d22"
   },
   "outputs": [
    {
     "name": "stderr",
     "output_type": "stream",
     "text": [
      "/usr/local/lib/python3.6/dist-packages/ipykernel_launcher.py:9: SettingWithCopyWarning: \n",
      "A value is trying to be set on a copy of a slice from a DataFrame\n",
      "\n",
      "See the caveats in the documentation: https://pandas.pydata.org/pandas-docs/stable/user_guide/indexing.html#returning-a-view-versus-a-copy\n",
      "  if __name__ == '__main__':\n"
     ]
    },
    {
     "name": "stdout",
     "output_type": "stream",
     "text": [
      "---------stage-->1--------------2020-03-22completed-------------------\n",
      "---------stage-->2--------------2020-03-23completed-------------------\n",
      "---------stage-->3--------------2020-03-24completed-------------------\n",
      "---------stage-->4--------------2020-03-25completed-------------------\n",
      "---------stage-->5--------------2020-03-26completed-------------------\n",
      "---------stage-->6--------------2020-03-27completed-------------------\n",
      "---------stage-->7--------------2020-03-28completed-------------------\n",
      "---------stage-->8--------------2020-03-29completed-------------------\n",
      "---------stage-->9--------------2020-03-30completed-------------------\n",
      "---------stage-->10--------------2020-03-31completed-------------------\n",
      "---------stage-->11--------------2020-04-01completed-------------------\n",
      "---------stage-->12--------------2020-04-02completed-------------------\n",
      "---------stage-->13--------------2020-04-03completed-------------------\n",
      "---------stage-->14--------------2020-04-04completed-------------------\n",
      "---------stage-->15--------------2020-04-05completed-------------------\n",
      "---------stage-->16--------------2020-04-06completed-------------------\n",
      "---------stage-->17--------------2020-04-07completed-------------------\n",
      "---------stage-->18--------------2020-04-08completed-------------------\n",
      "---------stage-->19--------------2020-04-09completed-------------------\n",
      "---------stage-->20--------------2020-04-10completed-------------------\n",
      "---------stage-->21--------------2020-04-11completed-------------------\n",
      "---------stage-->22--------------2020-04-12completed-------------------\n",
      "---------stage-->23--------------2020-04-13completed-------------------\n",
      "---------stage-->24--------------2020-04-14completed-------------------\n",
      "---------stage-->25--------------2020-04-15completed-------------------\n",
      "---------stage-->26--------------2020-04-16completed-------------------\n",
      "---------stage-->27--------------2020-04-17completed-------------------\n",
      "---------stage-->28--------------2020-04-18completed-------------------\n",
      "---------stage-->29--------------2020-04-19completed-------------------\n",
      "---------stage-->30--------------2020-04-20completed-------------------\n",
      "---------stage-->31--------------2020-04-21completed-------------------\n",
      "---------stage-->32--------------2020-04-22completed-------------------\n",
      "---------stage-->33--------------2020-04-23completed-------------------\n",
      "---------stage-->34--------------2020-04-24completed-------------------\n",
      "---------stage-->35--------------2020-04-25completed-------------------\n",
      "---------stage-->36--------------2020-04-26completed-------------------\n",
      "---------stage-->37--------------2020-04-27completed-------------------\n",
      "---------stage-->38--------------2020-04-28completed-------------------\n",
      "---------stage-->39--------------2020-04-29completed-------------------\n",
      "---------stage-->40--------------2020-04-30completed-------------------\n",
      "---------stage-->41--------------2020-05-01completed-------------------\n",
      "---------stage-->42--------------2020-05-02completed-------------------\n",
      "---------stage-->43--------------2020-05-03completed-------------------\n",
      "---------stage-->44--------------2020-05-04completed-------------------\n",
      "---------stage-->45--------------2020-05-05completed-------------------\n",
      "---------stage-->46--------------2020-05-06completed-------------------\n",
      "---------stage-->47--------------2020-05-07completed-------------------\n",
      "---------stage-->48--------------2020-05-08completed-------------------\n",
      "---------stage-->49--------------2020-05-09completed-------------------\n",
      "---------stage-->50--------------2020-05-10completed-------------------\n",
      "---------stage-->51--------------2020-05-11completed-------------------\n",
      "---------stage-->52--------------2020-05-12completed-------------------\n",
      "---------stage-->53--------------2020-05-13completed-------------------\n",
      "---------stage-->54--------------2020-05-14completed-------------------\n",
      "---------stage-->55--------------2020-05-15completed-------------------\n",
      "---------stage-->56--------------2020-05-16completed-------------------\n",
      "---------stage-->57--------------2020-05-17completed-------------------\n",
      "---------stage-->58--------------2020-05-18completed-------------------\n",
      "---------stage-->59--------------2020-05-19completed-------------------\n",
      "---------stage-->60--------------2020-05-20completed-------------------\n",
      "---------stage-->61--------------2020-05-21completed-------------------\n",
      "---------stage-->62--------------2020-05-22completed-------------------\n",
      "---------stage-->63--------------2020-05-23completed-------------------\n",
      "---------stage-->64--------------2020-05-24completed-------------------\n",
      "---------stage-->65--------------2020-05-25completed-------------------\n",
      "---------stage-->66--------------2020-05-26completed-------------------\n",
      "---------stage-->67--------------2020-05-27completed-------------------\n",
      "---------stage-->68--------------2020-05-28completed-------------------\n",
      "---------stage-->69--------------2020-05-29completed-------------------\n",
      "---------stage-->70--------------2020-05-30completed-------------------\n",
      "---------stage-->71--------------2020-05-31completed-------------------\n",
      "---------stage-->72--------------2020-06-01completed-------------------\n",
      "---------stage-->73--------------2020-06-02completed-------------------\n",
      "---------stage-->74--------------2020-06-03completed-------------------\n",
      "---------stage-->75--------------2020-06-04completed-------------------\n",
      "---------stage-->76--------------2020-06-05completed-------------------\n",
      "---------stage-->77--------------2020-06-06completed-------------------\n",
      "---------stage-->78--------------2020-06-07completed-------------------\n",
      "---------stage-->79--------------2020-06-08completed-------------------\n",
      "---------stage-->80--------------2020-06-09completed-------------------\n",
      "---------stage-->81--------------2020-06-10completed-------------------\n",
      "CPU times: user 22min 46s, sys: 7min 9s, total: 29min 55s\n",
      "Wall time: 22min 12s\n"
     ]
    }
   ],
   "source": [
    "def Assesment_1(file_name):\n",
    "    xls = xlrd.open_workbook(file_name, on_demand=True)\n",
    "    sheet_names = xls.sheet_names()\n",
    "    count = 1\n",
    "    for sheet_name in sheet_names:\n",
    "        df = pd.read_excel(file_name,sheet_name=sheet_name)\n",
    "        create_files(df,sheet_name)\n",
    "        print('---------stage-->' + str(count) + '--------------' + sheet_name +'completed-------------------')\n",
    "        count += 1\n",
    "%time Assesment_1('/content/31848109.xlsx')"
   ]
  },
  {
   "cell_type": "code",
   "execution_count": null,
   "metadata": {
    "colab": {},
    "colab_type": "code",
    "id": "znN7Qa9L2cGU"
   },
   "outputs": [],
   "source": [
    "!cp -r \"/content/All_text_files\" \"drive/My Drive/GSP_Connectors\""
   ]
  }
 ],
 "metadata": {
  "colab": {
   "collapsed_sections": [],
   "name": "Task_2_modifed.ipynb",
   "provenance": []
  },
  "kernelspec": {
   "display_name": "Python 3 (ipykernel)",
   "language": "python",
   "name": "python3"
  },
  "language_info": {
   "codemirror_mode": {
    "name": "ipython",
    "version": 3
   },
   "file_extension": ".py",
   "mimetype": "text/x-python",
   "name": "python",
   "nbconvert_exporter": "python",
   "pygments_lexer": "ipython3",
   "version": "3.8.10"
  }
 },
 "nbformat": 4,
 "nbformat_minor": 1
}
